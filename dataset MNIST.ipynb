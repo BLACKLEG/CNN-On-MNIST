{
 "cells": [
  {
   "cell_type": "code",
   "execution_count": 2,
   "metadata": {},
   "outputs": [],
   "source": [
    "#pack\n",
    "import pandas as pd\n",
    "import numpy as np\n",
    "import matplotlib.pyplot as plt\n"
   ]
  },
  {
   "cell_type": "code",
   "execution_count": 1,
   "metadata": {},
   "outputs": [],
   "source": [
    "#data \n",
    "\n",
    "from tensorflow.keras.datasets import mnist"
   ]
  },
  {
   "cell_type": "code",
   "execution_count": 3,
   "metadata": {},
   "outputs": [],
   "source": [
    "#set de train / test\n",
    "(X_train , y_train), (X_test , y_test) = mnist.load_data()"
   ]
  },
  {
   "cell_type": "code",
   "execution_count": 4,
   "metadata": {},
   "outputs": [
    {
     "data": {
      "text/plain": [
       "(60000, 28, 28)"
      ]
     },
     "execution_count": 4,
     "metadata": {},
     "output_type": "execute_result"
    }
   ],
   "source": [
    "X_train.shape"
   ]
  },
  {
   "cell_type": "code",
   "execution_count": 5,
   "metadata": {},
   "outputs": [
    {
     "data": {
      "text/plain": [
       "<matplotlib.image.AxesImage at 0x1bb2870a6d0>"
      ]
     },
     "execution_count": 5,
     "metadata": {},
     "output_type": "execute_result"
    },
    {
     "data": {
      "image/png": "[encoded data removed]",
      "text/plain": [
       "<Figure size 432x288 with 1 Axes>"
      ]
     },
     "metadata": {
      "needs_background": "light"
     },
     "output_type": "display_data"
    }
   ],
   "source": [
    "#affiche la 1ere image \n",
    "plt.imshow ( X_train[0] )"
   ]
  },
  {
   "cell_type": "code",
   "execution_count": 6,
   "metadata": {},
   "outputs": [
    {
     "data": {
      "text/plain": [
       "5"
      ]
     },
     "execution_count": 6,
     "metadata": {},
     "output_type": "execute_result"
    }
   ],
   "source": [
    "y_train[0]\n",
    "\n",
    "# ici 5 c est une valeur continue mais c est surtout une categorie de classe 5\n",
    "# c est un pb de classification "
   ]
  },
  {
   "cell_type": "code",
   "execution_count": 7,
   "metadata": {},
   "outputs": [],
   "source": [
    "#categoriser les targets \n",
    "from tensorflow.keras.utils import to_categorical\n",
    "\n",
    "y_train = to_categorical ( y_train , num_classes = 10 )\n",
    "y_test  = to_categorical ( y_test  , num_classes = 10 )"
   ]
  },
  {
   "cell_type": "code",
   "execution_count": 8,
   "metadata": {},
   "outputs": [],
   "source": [
    "# normaliser les ensembles \n",
    "\n",
    "X_train = X_train / 255\n",
    "X_test = X_test / 255\n",
    "\n",
    "# les données sont comprises entre 0 et 255 "
   ]
  },
  {
   "cell_type": "code",
   "execution_count": 9,
   "metadata": {},
   "outputs": [
    {
     "name": "stdout",
     "output_type": "stream",
     "text": [
      "(60000, 28, 28)\n",
      "(60000, 28, 28, 1)\n"
     ]
    }
   ],
   "source": [
    "#reshape \n",
    "\n",
    "X_train_i = X_train.reshape (60000, 28, 28 ,1)\n",
    "X_test_i = X_test.reshape (10000, 28, 28 ,1)\n",
    "\n",
    "print ( X_train.shape )\n",
    "print ( X_train_i.shape )\n",
    "\n",
    "# le format est (nb image , 28pixels*28 , 1 canal de couleur) #1: noir/blanc"
   ]
  },
  {
   "cell_type": "code",
   "execution_count": 10,
   "metadata": {},
   "outputs": [],
   "source": [
    "#CNN \n",
    "\n",
    "from tensorflow.keras.models import Sequential\n",
    "from tensorflow.keras.layers import Dense,Conv2D , Dropout,Flatten, MaxPool2D\n",
    "\n",
    "# le gros du travail est le couche du convolution \n",
    "                    # et la couche de maxpool2D\n",
    "\n",
    "model = Sequential ()\n",
    "\n",
    "#couches :\n",
    "model.add ( Conv2D ( filters = 32 , #nombre de filtre    \n",
    "                     kernel_size = (4,4),   #le noyau \n",
    "                     input_shape = (28,28,1), #taille de l input\n",
    "                     activation= 'relu') )  \n",
    "\n",
    "model.add (MaxPool2D (pool_size = (2,2) ) )  #la 1/2 du noyau \n",
    "\n",
    "# Flatten applatit le tableau de 28*28  = 784 \n",
    "# applatit le tableau en 2 dim de 28*28 est applatit en 1 tableau de 784\n",
    "\n",
    "model.add ( Flatten () )  \n",
    "\n",
    "model.add ( Dense (128 , activation = 'relu'))\n",
    "\n",
    "model.add ( Dense (10 ,                      # il y a 10 classes\n",
    "                   activation = 'softmax'))  # c est un pb de \n",
    "                                             # classification multi class"
   ]
  },
  {
   "cell_type": "code",
   "execution_count": 11,
   "metadata": {},
   "outputs": [],
   "source": [
    "#compile\n",
    "model.compile ( loss = 'categorical_crossentropy' , \n",
    "                optimizer = 'adam', \n",
    "                metrics = [ 'accuracy' ] )  #nous allons verifier les loss (pertes)\n",
    "                                            # mais aussi la presicion\n",
    "\n",
    "#     pouor voir toute ls metrics :\n",
    "#    https://keras.io/api/metrics/"
   ]
  },
  {
   "cell_type": "code",
   "execution_count": 12,
   "metadata": {},
   "outputs": [],
   "source": [
    "# callbacks\n",
    "\n",
    "from tensorflow.keras.callbacks import EarlyStopping \n",
    "\n",
    "eas = EarlyStopping ( monitor = 'val_loss' , \n",
    "                     patience = 1)"
   ]
  },
  {
   "cell_type": "code",
   "execution_count": 13,
   "metadata": {},
   "outputs": [
    {
     "name": "stdout",
     "output_type": "stream",
     "text": [
      "Epoch 1/10\n",
      "1875/1875 [==============================] - 25s 13ms/step - loss: 0.1325 - accuracy: 0.9600 - val_loss: 0.0562 - val_accuracy: 0.9813\n",
      "Epoch 2/10\n",
      "1875/1875 [==============================] - 25s 13ms/step - loss: 0.0454 - accuracy: 0.9861 - val_loss: 0.0414 - val_accuracy: 0.9866\n",
      "Epoch 3/10\n",
      "1875/1875 [==============================] - 25s 13ms/step - loss: 0.0283 - accuracy: 0.9911 - val_loss: 0.0439 - val_accuracy: 0.9840\n"
     ]
    },
    {
     "data": {
      "text/plain": [
       "<tensorflow.python.keras.callbacks.History at 0x1bb254c5850>"
      ]
     },
     "execution_count": 13,
     "metadata": {},
     "output_type": "execute_result"
    }
   ],
   "source": [
    "# fit\n",
    "model.fit (  X_train_i , \n",
    "             y_train , \n",
    "             epochs = 10 ,\n",
    "             validation_data = (X_test_i , y_test) , \n",
    "             callbacks = [eas]  )"
   ]
  },
  {
   "cell_type": "code",
   "execution_count": 15,
   "metadata": {},
   "outputs": [
    {
     "data": {
      "text/plain": [
       "<AxesSubplot:>"
      ]
     },
     "execution_count": 15,
     "metadata": {},
     "output_type": "execute_result"
    },
    {
     "data": {
      "image/png": "[encoded data removed]",
      "text/plain": [
       "<Figure size 432x288 with 1 Axes>"
      ]
     },
     "metadata": {
      "needs_background": "light"
     },
     "output_type": "display_data"
    },
    {
     "data": {
      "image/png": "[encoded data removed]",
      "text/plain": [
       "<Figure size 432x288 with 1 Axes>"
      ]
     },
     "metadata": {
      "needs_background": "light"
     },
     "output_type": "display_data"
    }
   ],
   "source": [
    "#courbe d apprentissage\n",
    "\n",
    "x = pd.DataFrame(model.history.history) \n",
    "x[['loss' , 'val_loss']].plot()\n",
    "x [['accuracy' , 'val_accuracy']].plot()"
   ]
  },
  {
   "cell_type": "code",
   "execution_count": 16,
   "metadata": {},
   "outputs": [],
   "source": [
    "# prediction du set\n",
    "\n",
    "predict = to_categorical (np.argmax (model.predict (X_test_i ) , axis = 1))"
   ]
  },
  {
   "cell_type": "code",
   "execution_count": 17,
   "metadata": {},
   "outputs": [
    {
     "name": "stdout",
     "output_type": "stream",
     "text": [
      "313/313 [==============================] - 1s 4ms/step - loss: 0.0439 - accuracy: 0.9840\n"
     ]
    },
    {
     "data": {
      "text/plain": [
       "[0.04393601045012474, 0.984000027179718]"
      ]
     },
     "execution_count": 17,
     "metadata": {},
     "output_type": "execute_result"
    }
   ],
   "source": [
    "# evaluation du modele\n",
    "\n",
    "model.evaluate(X_test_i , y_test)"
   ]
  },
  {
   "cell_type": "code",
   "execution_count": 18,
   "metadata": {},
   "outputs": [
    {
     "name": "stdout",
     "output_type": "stream",
     "text": [
      "              precision    recall  f1-score   support\n",
      "\n",
      "           0       0.99      0.99      0.99       980\n",
      "           1       0.99      1.00      0.99      1135\n",
      "           2       0.98      0.99      0.98      1032\n",
      "           3       0.98      0.99      0.99      1010\n",
      "           4       0.98      0.99      0.99       982\n",
      "           5       1.00      0.96      0.98       892\n",
      "           6       0.99      0.98      0.99       958\n",
      "           7       1.00      0.96      0.98      1028\n",
      "           8       0.97      0.99      0.98       974\n",
      "           9       0.96      0.99      0.98      1009\n",
      "\n",
      "   micro avg       0.98      0.98      0.98     10000\n",
      "   macro avg       0.98      0.98      0.98     10000\n",
      "weighted avg       0.98      0.98      0.98     10000\n",
      " samples avg       0.98      0.98      0.98     10000\n",
      "\n"
     ]
    }
   ],
   "source": [
    "# classification_report\n",
    "\n",
    "from sklearn.metrics import classification_report , confusion_matrix\n",
    "\n",
    "print (classification_report (y_test , predict))"
   ]
  },
  {
   "cell_type": "code",
   "execution_count": 19,
   "metadata": {},
   "outputs": [
    {
     "data": {
      "image/png": "[encoded data removed]",
      "text/plain": [
       "<Figure size 1152x432 with 2 Axes>"
      ]
     },
     "metadata": {
      "needs_background": "light"
     },
     "output_type": "display_data"
    }
   ],
   "source": [
    "# confusion_matrix\n",
    "import seaborn as sns\n",
    "\n",
    "conf = confusion_matrix(y_test.argmax(axis=1), predict.argmax(axis=1)  , )\n",
    "\n",
    "plt.figure (figsize = (16,6))\n",
    "sns.heatmap ( conf , annot = True);\n",
    "\n",
    "#a l aide de la figure : \n",
    "# le modele a d excelent resultat\n",
    "# le modele confond tres legerement les 3 et les 5"
   ]
  },
  {
   "cell_type": "code",
   "execution_count": 14,
   "metadata": {},
   "outputs": [
    {
     "data": {
      "text/plain": [
       "<matplotlib.image.AxesImage at 0x1bb259e0460>"
      ]
     },
     "execution_count": 14,
     "metadata": {},
     "output_type": "execute_result"
    },
    {
     "data": {
      "image/png": "[encoded data removed]",
      "text/plain": [
       "<Figure size 432x288 with 1 Axes>"
      ]
     },
     "metadata": {
      "needs_background": "light"
     },
     "output_type": "display_data"
    }
   ],
   "source": [
    "#prediction sur 1 element\n",
    "\n",
    "My_image = X_test_i [100]\n",
    "plt.imshow (My_image)\n"
   ]
  },
  {
   "cell_type": "code",
   "execution_count": 20,
   "metadata": {},
   "outputs": [
    {
     "data": {
      "text/plain": [
       "6"
      ]
     },
     "execution_count": 20,
     "metadata": {},
     "output_type": "execute_result"
    }
   ],
   "source": [
    "predict = np.argmax (model.predict (X_test_i[100].reshape  (1, 28,28,1) ) , axis = 1)\n",
    "# X_test_i[100].reshape  (1, 28,28,1)\n",
    "predict[0]"
   ]
  }
 ],
 "metadata": {
  "kernelspec": {
   "display_name": "Python 3",
   "language": "python",
   "name": "python3"
  },
  "language_info": {
   "codemirror_mode": {
    "name": "ipython",
    "version": 3
   },
   "file_extension": ".py",
   "mimetype": "text/x-python",
   "name": "python",
   "nbconvert_exporter": "python",
   "pygments_lexer": "ipython3",
   "version": "3.8.3"
  }
 },
 "nbformat": 4,
 "nbformat_minor": 4
}
